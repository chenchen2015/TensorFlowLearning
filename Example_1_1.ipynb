# Import TensorFlow Library
import tensorflow as tf

# Create a String Constant Named "helloworldVar"
helloworld = tf.constant('HelloWorld from Chen!!', name="helloworldVar") 

# Print the Type of the Variable
print(helloworld)

# Start a TensorFlow Session
sess = tf.Session()

# Run the Session and Print the Result
print(sess.run(helloworld))
