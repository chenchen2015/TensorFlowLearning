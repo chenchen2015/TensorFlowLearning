{
 "cells": [
  {
   "cell_type": "code",
   "execution_count": 1,
   "metadata": {
    "collapsed": true
   },
   "outputs": [],
   "source": [
    "# Import TensorFlow Library\n",
    "import tensorflow as tf"
   ]
  },
  {
   "cell_type": "code",
   "execution_count": 2,
   "metadata": {
    "collapsed": false
   },
   "outputs": [
    {
     "name": "stdout",
     "output_type": "stream",
     "text": [
      "Tensor(\"helloworldVar:0\", shape=(), dtype=string)\n"
     ]
    }
   ],
   "source": [
    "# Create a String Constant Named \"helloworldVar\"\n",
    "helloworld = tf.constant('HelloWorld from Chen!!', name=\"helloworldVar\") \n",
    "\n",
    "# Print the Type of the Variable\n",
    "print(helloworld)"
   ]
  },
  {
   "cell_type": "code",
   "execution_count": 3,
   "metadata": {
    "collapsed": false
   },
   "outputs": [
    {
     "name": "stdout",
     "output_type": "stream",
     "text": [
      "b'HelloWorld from Chen!!'\n"
     ]
    }
   ],
   "source": [
    "# Start a TensorFlow Session\n",
    "sess = tf.Session()\n",
    "\n",
    "# Run the Session and Print the Result\n",
    "print(sess.run(helloworld))"
   ]
  }
 ],
 "metadata": {
  "anaconda-cloud": {},
  "kernelspec": {
   "display_name": "Python [conda root]",
   "language": "python",
   "name": "conda-root-py"
  },
  "language_info": {
   "codemirror_mode": {
    "name": "ipython",
    "version": 3
   },
   "file_extension": ".py",
   "mimetype": "text/x-python",
   "name": "python",
   "nbconvert_exporter": "python",
   "pygments_lexer": "ipython3",
   "version": "3.5.2"
  }
 },
 "nbformat": 4,
 "nbformat_minor": 2
}
