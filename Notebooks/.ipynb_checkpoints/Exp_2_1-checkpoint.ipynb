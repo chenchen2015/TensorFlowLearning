{
 "cells": [
  {
   "cell_type": "code",
   "execution_count": 1,
   "metadata": {
    "collapsed": false
   },
   "outputs": [
    {
     "data": {
      "text/plain": [
       "'\\nThis is an example implementation of a Recurrent Neural Network (LSTM) using the TensorFlow Library.\\nExample adopted from https://github.com/aymericdamien/TensorFlow-Examples/blob/master/notebooks/3_NeuralNetworks/recurrent_network.ipynb\\n\\nChen Chen\\n12/7/2016\\n'"
      ]
     },
     "execution_count": 1,
     "metadata": {},
     "output_type": "execute_result"
    }
   ],
   "source": [
    "'''\n",
    "This is an example implementation of a Recurrent Neural Network (LSTM) using the TensorFlow Library.\n",
    "Example adopted from https://github.com/aymericdamien/TensorFlow-Examples/blob/master/notebooks/3_NeuralNetworks/recurrent_network.ipynb\n",
    "\n",
    "Chen Chen\n",
    "12/7/2016\n",
    "'''"
   ]
  },
  {
   "cell_type": "code",
   "execution_count": 2,
   "metadata": {
    "collapsed": false
   },
   "outputs": [
    {
     "name": "stdout",
     "output_type": "stream",
     "text": [
      "Extracting /tmp/data/train-images-idx3-ubyte.gz\n",
      "Extracting /tmp/data/train-labels-idx1-ubyte.gz\n",
      "Extracting /tmp/data/t10k-images-idx3-ubyte.gz\n",
      "Extracting /tmp/data/t10k-labels-idx1-ubyte.gz\n"
     ]
    }
   ],
   "source": [
    "# Import TensorFlow Module\n",
    "import tensorflow as tf\n",
    "\n",
    "# Import RNN modules\n",
    "from tensorflow.python.ops import rnn, rnn_cell\n",
    "\n",
    "# and numpy for math\n",
    "import numpy as np\n",
    "\n",
    "# Import MINST data\n",
    "from tensorflow.examples.tutorials.mnist import input_data\n",
    "\n",
    "# Extract input data\n",
    "mnist = input_data.read_data_sets(\"/tmp/data/\", one_hot = True)"
   ]
  },
  {
   "cell_type": "code",
   "execution_count": 3,
   "metadata": {
    "collapsed": false
   },
   "outputs": [],
   "source": [
    "# Control Parameters\n",
    "maxIter = 1e6\n",
    "batchSize = 128\n",
    "printStep = 10\n",
    "\n",
    "# RNN Parameters\n",
    "learnRate = 0.001\n",
    "nInput = 28 # Number of input in each MNIST image (row pixels)\n",
    "nRows = 28\n",
    "nHidden = 128 # Number of Hidden Units\n",
    "nClasses = 10 # Total number of classes. We are predicting single digits from 0-9\n",
    "\n",
    "# TensorFlow Graph Input\n",
    "x = tf.placeholder(tf.float32, [None, nRows, nInput], name=\"netInput\")\n",
    "y = tf.placeholder(tf.float32, [None, nClasses], name=\"netOutput\")\n",
    "\n",
    "# RNN Weight and Bias Matrix\n",
    "weight = {\n",
    "    'out': tf.Variable(tf.random_normal([nHidden, nClasses]))\n",
    "}\n",
    "bias = {\n",
    "    'out': tf.Variable(tf.random_normal([nClasses]))\n",
    "}"
   ]
  },
  {
   "cell_type": "code",
   "execution_count": 4,
   "metadata": {
    "collapsed": false
   },
   "outputs": [],
   "source": [
    "def RNN(x, weight, bias):\n",
    "    # Preprocess data to tensors\n",
    "    # Raw data shape: (batchSize, nRows, nInput)\n",
    "    # Tensor shape  : list of nRows tensors each with a shape of (batchSize, nInput)\n",
    "    \n",
    "    # Permuting batchSize and nRows\n",
    "    #  Variable:   x[batchSize, nRows, nInput]  =>  x[ nRows, batchSize, nInput]\n",
    "    # Dimension:   x[   0     ,   1  ,    2  ]  =>  x[   1  ,     0    ,    2  ]\n",
    "    x = tf.transpose(x, [1, 0, 2])\n",
    "    # Reshape x to 2D => [batchSize * nRows, nInput]\n",
    "    x = tf.reshape(x, [-1, nInput])\n",
    "    # Split the dimension to get a list of nRows tensors of shape [batchSize, nInput]\n",
    "    x = tf.split(0, nRows, x)\n",
    "    \n",
    "    # Define a LSTM cell\n",
    "    lstmCell = rnn_cell.BasicLSTMCell(nHidden, forget_bias=1.0)\n",
    "    \n",
    "    # Get LSTM cell output\n",
    "    outputs, states = rnn.rnn(lstmCell, x, dtype=tf.float32)\n",
    "    \n",
    "    # Linear activation function\n",
    "    return tf.matmul(outputs[-1], weight['out'] + bias['out'])\n",
    "\n",
    "# Use the function defined above to convert data into list of tensors\n",
    "# And use LSTM RNN to predict the output\n",
    "predY = RNN(x, weight, bias)\n",
    "\n",
    "# Define cost function and optimizer\n",
    "costFun = tf.reduce_mean(tf.nn.softmax_cross_entropy_with_logits(predY, y))\n",
    "optimizerFun = tf.train.AdamOptimizer(learning_rate=learnRate).minimize(costFun)\n",
    "\n",
    "# Evaluate Model\n",
    "predResult = tf.equal(tf.argmax(predY, 1), tf.argmax(y, 1))\n",
    "accuracy = tf.reduce_mean(tf.cast(predResult, tf.float32))\n",
    "\n",
    "# Initializing all variables\n",
    "init = tf.global_variables_initializer()"
   ]
  },
  {
   "cell_type": "code",
   "execution_count": null,
   "metadata": {
    "collapsed": true
   },
   "outputs": [],
   "source": []
  }
 ],
 "metadata": {
  "anaconda-cloud": {},
  "kernelspec": {
   "display_name": "Python [conda root]",
   "language": "python",
   "name": "conda-root-py"
  },
  "language_info": {
   "codemirror_mode": {
    "name": "ipython",
    "version": 3
   },
   "file_extension": ".py",
   "mimetype": "text/x-python",
   "name": "python",
   "nbconvert_exporter": "python",
   "pygments_lexer": "ipython3",
   "version": "3.5.2"
  }
 },
 "nbformat": 4,
 "nbformat_minor": 2
}
