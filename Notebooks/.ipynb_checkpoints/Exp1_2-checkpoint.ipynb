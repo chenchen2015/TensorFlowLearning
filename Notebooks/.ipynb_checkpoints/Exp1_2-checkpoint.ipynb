{
 "cells": [
  {
   "cell_type": "code",
   "execution_count": 1,
   "metadata": {
    "collapsed": true
   },
   "outputs": [],
   "source": [
    "# Import TensorFlow Module\n",
    "import tensorflow as tf\n",
    "\n",
    "# Import the sys module to get the version of Python\n",
    "from sys import version as ver"
   ]
  },
  {
   "cell_type": "code",
   "execution_count": 2,
   "metadata": {
    "collapsed": false
   },
   "outputs": [
    {
     "name": "stdout",
     "output_type": "stream",
     "text": [
      "Python version used 3.5.2 |Anaconda 4.2.0 (64-bit)| (default, Jul  5 2016, 11:41:13) [MSC v.1900 64 bit (AMD64)]\n",
      "a = 3, b = 5\n",
      "a + b =  8\n",
      "a * b = 15\n"
     ]
    }
   ],
   "source": [
    "## Example #1\n",
    "## Basic Constant Variable Definition and Print Function\n",
    "\n",
    "# Define some constants\n",
    "a = tf.constant(3)\n",
    "b = tf.constant(5)\n",
    "\n",
    "# Do some basic math and print the result using the with...as... statement\n",
    "# Note that since I am using Python 3.5.2 not 2.7, the usage of the print function is slightly different\n",
    "with tf.Session() as sess:\n",
    "    print('Python version used', ver)\n",
    "    print(\"a = {0:1d}, b = {1:1d}\".format(sess.run(a), sess.run(b)))\n",
    "    print(\"a + b = {0:2d}\".format(sess.run(a+b)))\n",
    "    print(\"a * b = {0:2d}\".format(sess.run(a*b)))"
   ]
  },
  {
   "cell_type": "code",
   "execution_count": 3,
   "metadata": {
    "collapsed": false
   },
   "outputs": [
    {
     "name": "stdout",
     "output_type": "stream",
     "text": [
      "a = 3, b = 5\n",
      "a + b = 8\n",
      "a - b = -2\n",
      "a * b = 15\n"
     ]
    }
   ],
   "source": [
    "## Example #2\n",
    "## Basic Operations with Placeholder function\n",
    "\n",
    "# Initialize a, b as two integer placeholders (i.e. variables)\n",
    "a = tf.placeholder(tf.int32, name=\"var_a\")\n",
    "b = tf.placeholder(tf.int32, name=\"var_b\")\n",
    "\n",
    "# Now you can define some arbitrary operations\n",
    "opAdd = tf.add(a, b)\n",
    "opSub = tf.sub(a, b)\n",
    "opMul = tf.mul(a, b)\n",
    "\n",
    "# Print the result (Note the difference with example #1)\n",
    "with tf.Session() as sess:\n",
    "    print(\n",
    "        \"a = {0}, b = {1}\".format(\n",
    "            sess.run(a, feed_dict={a: 3}), \n",
    "            sess.run(b, feed_dict={b: 5})))\n",
    "    print(\"a + b = {0}\".format(sess.run(opAdd, feed_dict={a: 3, b: 5})))\n",
    "    print(\"a - b = {0}\".format(sess.run(opSub, feed_dict={a: 3, b: 5})))\n",
    "    print(\"a * b = {0}\".format(sess.run(opMul, feed_dict={a: 3, b: 5})))"
   ]
  },
  {
   "cell_type": "code",
   "execution_count": 4,
   "metadata": {
    "collapsed": false
   },
   "outputs": [
    {
     "name": "stdout",
     "output_type": "stream",
     "text": [
      "Addition: \n",
      " [[ 10.  10.  10.]\n",
      " [ 10.  10.  10.]\n",
      " [ 10.  10.  10.]] \n",
      "\n",
      "Subtraction : \n",
      " [[-8. -6. -4.]\n",
      " [-2.  0.  2.]\n",
      " [ 4.  6.  8.]] \n",
      "\n",
      "Multiplication: \n",
      " [[  30.   24.   18.]\n",
      " [  84.   69.   54.]\n",
      " [ 138.  114.   90.]] \n",
      "\n"
     ]
    }
   ],
   "source": [
    "## Example #3\n",
    "## Simple Matrix Operations\n",
    "\n",
    "# Create two constant matrix with a dimension of 3x3\n",
    "mat1 = tf.constant([[1., 2., 3.],\n",
    "                    [4., 5., 6.],\n",
    "                    [7., 8., 9.]])\n",
    "mat2 = tf.constant([[9., 8., 7.],\n",
    "                    [6., 5., 4.],\n",
    "                    [3., 2., 1.]])\n",
    "\n",
    "# Run some simple matrix operation\n",
    "opAdd = mat1 + mat2;\n",
    "opSub = mat1 - mat2;\n",
    "opMul = tf.matmul(mat1, mat2)\n",
    "\n",
    "# Print the results\n",
    "with tf.Session() as sess:\n",
    "    print(\"Addition: \\n\", sess.run(opAdd),\"\\n\")\n",
    "    print(\"Subtraction : \\n\", sess.run(opSub),\"\\n\")\n",
    "    print(\"Multiplication: \\n\", sess.run(opMul),\"\\n\")"
   ]
  }
 ],
 "metadata": {
  "kernelspec": {
   "display_name": "Python [conda root]",
   "language": "python",
   "name": "conda-root-py"
  },
  "language_info": {
   "codemirror_mode": {
    "name": "ipython",
    "version": 3
   },
   "file_extension": ".py",
   "mimetype": "text/x-python",
   "name": "python",
   "nbconvert_exporter": "python",
   "pygments_lexer": "ipython3",
   "version": "3.5.2"
  }
 },
 "nbformat": 4,
 "nbformat_minor": 2
}
